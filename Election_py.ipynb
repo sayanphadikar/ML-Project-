{
 "cells": [
  {
   "cell_type": "markdown",
   "metadata": {
    "id": "8LkoxLAfhiNP"
   },
   "source": [
    "Indian General Elections 2019: Data Analysis And Prediction Using Machine Learning"
   ]
  },
  {
   "cell_type": "markdown",
   "metadata": {
    "id": "PNw4kDJrhz1t"
   },
   "source": [
    "# *Introduction:*\n",
    "\n",
    "The 2019 Indian general election was held in seven phases from 11 April to 19 May 2019 to constitute the 17th Lok Sabha. The votes were counted, and the result was declared on 23 May. About 911 million people were eligible to vote, and voter turnout was over 67 percent.The highest ever and the highest ever participation by women voters. The Bharatiya Janata Party won 303 seats, further increasing its substantial majority, and the BJP-led National Democratic Alliance (NDA) won 353 seats. The BJP won 37.36% of votes, while the NDA's combined ballot was 45% of the 60.37 crore votes that were polled. The Indian National Congress won just 52 seats, and the Congress-led United Progressive Alliance won 91. Other parties and their alliances won 98 seats.\n",
    "In this notebook, I have used data visualization tools such as Matplotlib, Plotly, and Seaborn to visualize how India's people voted during the 2019 elections. I have also experimented with Random Forest Classifier, Support Vector Machine, and K-Nearest Neighbor machine learning models to make predictions. The models' hyperparameters were first tuned manually, and then GridSearchCV was used to find the most optimum results. I have also evaluated the performance metrics of these models and compared them with each other."
   ]
  },
  {
   "cell_type": "markdown",
   "metadata": {
    "id": "FHkk8RSzjO48"
   },
   "source": [
    "# *Environment Setup*"
   ]
  },
  {
   "cell_type": "code",
   "execution_count": 5,
   "metadata": {
    "colab": {
     "base_uri": "https://localhost:8080/",
     "height": 17
    },
    "id": "KOJu60Q5hdur",
    "outputId": "530ad45e-d277-4890-b6cd-ffb541332884"
   },
   "outputs": [
    {
     "ename": "ModuleNotFoundError",
     "evalue": "No module named 'xgboost'",
     "output_type": "error",
     "traceback": [
      "\u001b[1;31m---------------------------------------------------------------------------\u001b[0m",
      "\u001b[1;31mModuleNotFoundError\u001b[0m                       Traceback (most recent call last)",
      "Cell \u001b[1;32mIn[5], line 28\u001b[0m\n\u001b[0;32m     26\u001b[0m \u001b[38;5;28;01mfrom\u001b[39;00m \u001b[38;5;21;01msklearn\u001b[39;00m\u001b[38;5;21;01m.\u001b[39;00m\u001b[38;5;21;01mneighbors\u001b[39;00m \u001b[38;5;28;01mimport\u001b[39;00m KNeighborsClassifier\n\u001b[0;32m     27\u001b[0m \u001b[38;5;28;01mfrom\u001b[39;00m \u001b[38;5;21;01msklearn\u001b[39;00m\u001b[38;5;21;01m.\u001b[39;00m\u001b[38;5;21;01mlinear_model\u001b[39;00m \u001b[38;5;28;01mimport\u001b[39;00m LogisticRegression\n\u001b[1;32m---> 28\u001b[0m \u001b[38;5;28;01mimport\u001b[39;00m \u001b[38;5;21;01mxgboost\u001b[39;00m \u001b[38;5;28;01mas\u001b[39;00m \u001b[38;5;21;01mxgb\u001b[39;00m\n\u001b[0;32m     29\u001b[0m \u001b[38;5;28;01mimport\u001b[39;00m \u001b[38;5;21;01mlightgbm\u001b[39;00m \u001b[38;5;28;01mas\u001b[39;00m \u001b[38;5;21;01mlgb\u001b[39;00m\n\u001b[0;32m     30\u001b[0m \u001b[38;5;28;01mfrom\u001b[39;00m \u001b[38;5;21;01msklearn\u001b[39;00m\u001b[38;5;21;01m.\u001b[39;00m\u001b[38;5;21;01mtree\u001b[39;00m \u001b[38;5;28;01mimport\u001b[39;00m DecisionTreeClassifier\n",
      "\u001b[1;31mModuleNotFoundError\u001b[0m: No module named 'xgboost'"
     ]
    }
   ],
   "source": [
    "# Import numpy, pandas for data manipulation\n",
    "import numpy as np\n",
    "import pandas as pd\n",
    "from collections import Counter\n",
    "import time\n",
    "\n",
    "# Import plotly, matplotlib and seaborn as visualization tools\n",
    "import matplotlib.pyplot as plt\n",
    "from plotly import tools\n",
    "import plotly.graph_objs as go\n",
    "import plotly.figure_factory as ff\n",
    "import plotly.express as px\n",
    "from plotly.subplots import make_subplots\n",
    "from plotly.offline import download_plotlyjs, init_notebook_mode\n",
    "import seaborn as sns\n",
    "\n",
    "# Import for resampling the data\n",
    "from imblearn.over_sampling import SMOTE\n",
    "\n",
    "# Import for scaling the data\n",
    "from sklearn.preprocessing import MinMaxScaler, OrdinalEncoder, LabelEncoder\n",
    "\n",
    "# Import machine learning models\n",
    "from sklearn.ensemble import RandomForestClassifier, GradientBoostingClassifier, AdaBoostClassifier\n",
    "from sklearn.svm import SVC\n",
    "from sklearn.neighbors import KNeighborsClassifier\n",
    "from sklearn.linear_model import LogisticRegression\n",
    "import xgboost as xgb\n",
    "import lightgbm as lgb\n",
    "from sklearn.tree import DecisionTreeClassifier\n",
    "\n",
    "# Import model evaluation metrics\n",
    "from sklearn.metrics import accuracy_score, precision_score, recall_score, f1_score\n",
    "from sklearn.model_selection import train_test_split, cross_val_score\n",
    "from sklearn.model_selection import RandomizedSearchCV, GridSearchCV\n",
    "\n",
    "# Plot should appear inside the jupyter notebook\n",
    "%matplotlib inline\n",
    "\n",
    "init_notebook_mode(connected=True)\n"
   ]
  },
  {
   "cell_type": "markdown",
   "metadata": {
    "id": "vWLiaf4-j7Ip"
   },
   "source": [
    "# Gathering The Data\n",
    "\n",
    "The data for this project has been collected from Kaggle."
   ]
  },
  {
   "cell_type": "code",
   "execution_count": null,
   "metadata": {
    "colab": {
     "base_uri": "https://localhost:8080/",
     "height": 417
    },
    "id": "-QbrEdDRj0ZG",
    "outputId": "e2cd2516-f755-4ed9-b874-36c8165f0378"
   },
   "outputs": [],
   "source": [
    "# Loading the dataset\n",
    "df = pd.read_csv(\"/content/LS_2.0.csv\")\n",
    "df.head()"
   ]
  },
  {
   "cell_type": "code",
   "execution_count": null,
   "metadata": {
    "id": "sAsBgibPkbia"
   },
   "outputs": [],
   "source": [
    "df.replace({'Not Available': np.nan}, inplace=True)"
   ]
  },
  {
   "cell_type": "markdown",
   "metadata": {
    "id": "CdGJVzAqknr8"
   },
   "source": [
    "# Features\n",
    "STATE,\n",
    "CONSTITUENCY,\n",
    "NAME,\n",
    "WINNER,\n",
    "PARTY,\n",
    "SYMBOL,\n",
    "GENDER,\n",
    "CRIMINAL CASES,\n",
    "AGE,\n",
    "CATEGORY,\n",
    "EDUCATION,\n",
    "ASSETS,\n",
    "LIABILITIES,\n",
    "GENERAL VOTES,\n",
    "POSTAL VOTES,\n",
    "TOTAL VOTES,\n",
    "OVER TOTAL ELECTORS IN CONSTITUENCY,\n",
    "OVER TOTAL VOTES POLLED IN CONSTITUENCY,\n",
    "TOTAL ELECTORS."
   ]
  },
  {
   "cell_type": "markdown",
   "metadata": {
    "id": "V2ItAWMblD6d"
   },
   "source": [
    "# Data Preprocessing and Exploratory Data Analysis (EDA)"
   ]
  },
  {
   "cell_type": "code",
   "execution_count": null,
   "metadata": {
    "colab": {
     "base_uri": "https://localhost:8080/"
    },
    "id": "AWRxxYfcki9b",
    "outputId": "dbf29f8d-b428-4149-adef-04318fad03a8"
   },
   "outputs": [],
   "source": [
    "df.info()"
   ]
  },
  {
   "cell_type": "code",
   "execution_count": null,
   "metadata": {
    "id": "noTPuQkWlWK-"
   },
   "outputs": [],
   "source": [
    "df.columns = df.columns.str.replace('\\r','')\n",
    "df.columns = df.columns.str.replace('\\n','')"
   ]
  },
  {
   "cell_type": "code",
   "execution_count": null,
   "metadata": {
    "colab": {
     "base_uri": "https://localhost:8080/",
     "height": 300
    },
    "id": "5DpHyKsYldAj",
    "outputId": "b3dae08a-049f-4bc9-fd53-cee638c169de"
   },
   "outputs": [],
   "source": [
    "df.describe()"
   ]
  },
  {
   "cell_type": "code",
   "execution_count": null,
   "metadata": {
    "colab": {
     "base_uri": "https://localhost:8080/",
     "height": 680
    },
    "id": "-2NxIlO4ljnm",
    "outputId": "74793d3f-a6af-46e7-db1f-ad8ea97b5c07"
   },
   "outputs": [],
   "source": [
    "# Checking to see if the dataset contains any null values. We need to exclude NOTA votes while checking it.\n",
    "df = df[df['PARTY']!= 'NOTA']\n",
    "df = df.dropna()\n",
    "df.isna().sum()"
   ]
  },
  {
   "cell_type": "code",
   "execution_count": null,
   "metadata": {
    "colab": {
     "base_uri": "https://localhost:8080/",
     "height": 782
    },
    "id": "m-NsE-ETlq5E",
    "outputId": "c2db811e-2824-4cfa-e43b-535d470739b9"
   },
   "outputs": [],
   "source": [
    "df.head(10)"
   ]
  },
  {
   "cell_type": "code",
   "execution_count": null,
   "metadata": {
    "colab": {
     "base_uri": "https://localhost:8080/",
     "height": 680
    },
    "id": "4KwUSYX1l2bm",
    "outputId": "16eb67de-cea6-493b-e0e7-82014d8a4d42"
   },
   "outputs": [],
   "source": [
    "df.dtypes"
   ]
  },
  {
   "cell_type": "code",
   "execution_count": null,
   "metadata": {
    "id": "ODqEGFeVl7h2"
   },
   "outputs": [],
   "source": [
    "def value_cleaner(x):\n",
    "    try:\n",
    "        str_temp = (x.split('Rs')[1].split('\\n')[0].strip())\n",
    "        str_temp_2 = ''\n",
    "        for i in str_temp.split(\",\"):\n",
    "            str_temp_2 = str_temp_2+i\n",
    "        return str_temp_2\n",
    "    except:\n",
    "        x = 0\n",
    "        return x\n",
    "df['ASSETS'] = df['ASSETS'].apply((value_cleaner))\n",
    "df['LIABILITIES'] = df['LIABILITIES'].apply((value_cleaner))"
   ]
  },
  {
   "cell_type": "code",
   "execution_count": null,
   "metadata": {
    "colab": {
     "base_uri": "https://localhost:8080/",
     "height": 492
    },
    "id": "VK6HZaMOmBPx",
    "outputId": "abc442ad-419b-4659-8d18-b973ea1c8039"
   },
   "outputs": [],
   "source": [
    "df['EDUCATION'].value_counts()"
   ]
  },
  {
   "cell_type": "code",
   "execution_count": null,
   "metadata": {
    "id": "8cuKQxUNmHQS"
   },
   "outputs": [],
   "source": [
    "# Removing the \\n from 'Post Graduate\\n'\n",
    "df['EDUCATION'].replace(to_replace='Post Graduate\\r\\n', value='Post Graduate', inplace=True)\n",
    "\n",
    "# 'Graduate Professional' are Graduates, so replacing 'Graduate Professional' with 'Graduate'\n",
    "df['EDUCATION'].replace(to_replace='Graduate Professional', value='Graduate', inplace=True)\n",
    "\n",
    "# 'Literate' = 8th Pass in our society\n",
    "df['EDUCATION'].replace(to_replace='Literate', value='8th Pass', inplace=True)\n",
    "\n",
    "# Any education level below 8th pass is illiterate\n",
    "df['EDUCATION'].replace(to_replace='5th Pass', value='Illiterate', inplace=True)"
   ]
  },
  {
   "cell_type": "code",
   "execution_count": null,
   "metadata": {
    "colab": {
     "base_uri": "https://localhost:8080/",
     "height": 417
    },
    "id": "hvdv7FexmQhk",
    "outputId": "b817520b-3c0f-4d4f-8b6b-6d7aa5d0adbb"
   },
   "outputs": [],
   "source": [
    "df.head()"
   ]
  },
  {
   "cell_type": "code",
   "execution_count": null,
   "metadata": {
    "colab": {
     "base_uri": "https://localhost:8080/",
     "height": 680
    },
    "id": "pxMrQyHYmU7u",
    "outputId": "4886b7aa-81ec-4a21-bd5b-d8cddca5bc78"
   },
   "outputs": [],
   "source": [
    "df.dtypes"
   ]
  },
  {
   "cell_type": "code",
   "execution_count": null,
   "metadata": {
    "id": "NVFYNgdvmad0"
   },
   "outputs": [],
   "source": [
    "df['CRIMINALCASES'] = df['CRIMINALCASES'].astype(int, errors='raise')\n",
    "df['ASSETS'] = df['ASSETS'].astype(float, errors='raise')\n",
    "df['LIABILITIES'] = df['LIABILITIES'].astype(float, errors='raise')"
   ]
  },
  {
   "cell_type": "code",
   "execution_count": null,
   "metadata": {
    "colab": {
     "base_uri": "https://localhost:8080/",
     "height": 417
    },
    "id": "oVLJv5nLmg2X",
    "outputId": "2304b4a2-7ab1-4e83-ad75-a19a6b4326e1"
   },
   "outputs": [],
   "source": [
    "df.head()"
   ]
  },
  {
   "cell_type": "markdown",
   "metadata": {
    "id": "E7cSnmBNmvqQ"
   },
   "source": [
    "# Data Analysis\n",
    "State and Constituency by total electors"
   ]
  },
  {
   "cell_type": "code",
   "execution_count": null,
   "metadata": {
    "colab": {
     "base_uri": "https://localhost:8080/",
     "height": 542
    },
    "id": "pRWqzftRml5G",
    "outputId": "bc2e23b1-2816-4e84-d08c-2e7b1d7160b8"
   },
   "outputs": [],
   "source": [
    "import pandas as pd\n",
    "import plotly.express as px\n",
    "import plotly.io as pio\n",
    "\n",
    "# Ensure plotly's renderer is set to 'colab' for Google Colab\n",
    "pio.renderers.default = 'colab'\n",
    "\n",
    "# Load the CSV file\n",
    "df = pd.read_csv('/content/LS_2.0.csv')\n",
    "\n",
    "# Create the state and constituency dataframe\n",
    "state_df = df[['STATE', 'CONSTITUENCY', 'TOTAL ELECTORS']]\n",
    "\n",
    "# Create the sunburst chart\n",
    "state_fig = px.sunburst(state_df,\n",
    "                        path=['STATE', 'CONSTITUENCY'],\n",
    "                        values='TOTAL ELECTORS',\n",
    "                        color='TOTAL ELECTORS',\n",
    "                        color_continuous_scale=px.colors.sequential.Sunset)  # Use a diverse and vibrant color scale\n",
    "\n",
    "# Update layout with enhanced visual aesthetics\n",
    "state_fig.update_layout(\n",
    "    title_text='State and Constituency by Total Electors',\n",
    "    title_font=dict(size=24, family='Courier New', color='#351f39'),\n",
    "    font=dict(family='Courier New', color='#351f39'),\n",
    "    paper_bgcolor='#f4f4f4',  # Set a light background for contrast\n",
    "    plot_bgcolor='#ffffff',\n",
    "    margin=dict(t=50, l=25, r=25, b=25)  # Adjust margins for a clean look\n",
    ")\n",
    "\n",
    "# Show the plot using plotly's show function\n",
    "pio.show(state_fig)\n",
    "\n"
   ]
  },
  {
   "cell_type": "markdown",
   "metadata": {
    "id": "urJtavC0o5Es"
   },
   "source": [
    "# Lok Sabha 2019 Election Results : Top 20 Political Parties"
   ]
  },
  {
   "cell_type": "code",
   "execution_count": null,
   "metadata": {
    "colab": {
     "base_uri": "https://localhost:8080/",
     "height": 517
    },
    "id": "jDjkM2Iuo1Mi",
    "outputId": "c65780e3-fb52-4dd7-e056-7e2e141da030"
   },
   "outputs": [],
   "source": [
    "# Number of seats won by each party\n",
    "result = df[df['WINNER'] == 1].groupby('PARTY')['WINNER'].size()\n",
    "result_df = pd.DataFrame(data=result).sort_values(by=\"WINNER\", ascending=False)\n",
    "result_df.reset_index(level=0, inplace=True)\n",
    "\n",
    "# Visualize the party-wise election results\n",
    "result_fig = px.bar(result_df,\n",
    "                    x=result_df['PARTY'][:20],\n",
    "                    y=result_df[\"WINNER\"][:20],\n",
    "                    color=result_df['WINNER'][:20],\n",
    "                    height=500,\n",
    "                    color_continuous_scale='Oryel')\n",
    "result_fig.update_layout(title_text='Top 20 Party-wise election results',\n",
    "                         font_family=\"Courier New\",\n",
    "                         font_color=\"#351f39\",\n",
    "                         title_font_family=\"Courier New\",\n",
    "                         title_font_color=\"#351f39\",\n",
    "                         xaxis_title=\"Party\",\n",
    "                         yaxis_title=\"Seats\")\n",
    "result_fig.show()"
   ]
  },
  {
   "cell_type": "markdown",
   "metadata": {
    "id": "faPrf7UXpNIj"
   },
   "source": [
    "\n",
    "Bharatiya Janata Party (BJP) emerged as the single largest party after winning 300 seats. BJP is also the single largest party in terms of total vote share in Lok Sabha Election 2019. Congress secured the second position after winning 52 seats. After the landslide victory of Bharatiya Janata Party in the 17th Lok Sabha election; Narendra Modi is the 15th Prime Minister of India. BJP got the thumping majority in the 17th Lok Sabha election. Worth to mention that maximum seats in Lok Sabha can be 552; comprises 530 from states, 20 from Union Territories and 2 nominated members. Currently, only 543 members are elected for Lok Sabha from different states and UTs for the 17th Lok Sabha."
   ]
  },
  {
   "cell_type": "markdown",
   "metadata": {
    "id": "fwe-GvJHpUx-"
   },
   "source": [
    "# Party-Wise Vote Share"
   ]
  },
  {
   "cell_type": "code",
   "execution_count": null,
   "metadata": {
    "colab": {
     "base_uri": "https://localhost:8080/",
     "height": 542
    },
    "id": "hwPTaEonpSP0",
    "outputId": "6e7df5e5-5c07-4628-af66-9503fa8aef93"
   },
   "outputs": [],
   "source": [
    "import pandas as pd\n",
    "import plotly.graph_objects as go\n",
    "\n",
    "# Create a dataframe with the total number of votes won by each party\n",
    "result = df[df['WINNER'] == 1].groupby('PARTY')['WINNER'].size()\n",
    "vote_Share = df.groupby('PARTY')['TOTAL\\nVOTES'].sum()\n",
    "vote_Share_df = pd.DataFrame(data=vote_Share, index=vote_Share.index).sort_values(by=\"TOTAL\\nVOTES\", ascending=False)\n",
    "vote_Share_df.reset_index(level=0, inplace=True)\n",
    "\n",
    "# Sort out the top five parties according to the total number of votes\n",
    "vote_share_top5 = df.groupby('PARTY')['TOTAL\\nVOTES'].sum().nlargest(5).index.tolist()\n",
    "\n",
    "# Create a method to label parties as 'Other' if they are not top five in total number of votes.\n",
    "def sort_party(data):\n",
    "    if data['PARTY'] not in vote_share_top5:\n",
    "        return 'Other'\n",
    "    else:\n",
    "        return data['PARTY']\n",
    "\n",
    "# Calling the method\n",
    "df['Party New'] = df.apply(sort_party, axis=1)\n",
    "\n",
    "# Visualize Party-wise vote share\n",
    "vote_count = df.groupby('Party New')['TOTAL\\nVOTES'].sum()\n",
    "vote_count_fig = go.Figure(go.Pie(labels=vote_count.index,\n",
    "                                  values=vote_count.values,\n",
    "                                  pull=[0.1 if label == 'Other' else 0 for label in vote_count.index],\n",
    "                                  marker=dict(colors=px.colors.qualitative.Bold,  # Use a bold qualitative color palette\n",
    "                                              line=dict(color=\"#000000\",\n",
    "                                                        width=2))))\n",
    "vote_count_fig.update_layout(title_text='Party-wise Vote Share',\n",
    "                             font_family=\"Courier New\",\n",
    "                             font_color=\"#351f39\",\n",
    "                             title_font_family=\"Courier New\",\n",
    "                             title_font_color=\"#351f39\",\n",
    "                             legend=dict(orientation=\"h\", yanchor=\"bottom\", y=-0.1, xanchor=\"center\", x=0.5))\n",
    "vote_count_fig.show()\n",
    "\n"
   ]
  },
  {
   "cell_type": "code",
   "execution_count": null,
   "metadata": {
    "colab": {
     "base_uri": "https://localhost:8080/",
     "height": 303
    },
    "id": "YF1UBVBhqDRn",
    "outputId": "81d0bbf7-513c-4068-8ff1-4f86f49f5928"
   },
   "outputs": [],
   "source": [
    "df['Party New'].value_counts()\n"
   ]
  },
  {
   "cell_type": "markdown",
   "metadata": {
    "id": "l_-Mt-oiqffL"
   },
   "source": [
    "\n",
    "The Bharatiya Janata Party garnered 38.8% of the votes in the 2019 Lok Sabha elections. This is the highest vote share received by the party nation-wide in any Lok Sabha election since the party was (re)formed in 1980. In contrast, the Congress party failed to improve on its vote share from 2014 and gathered 20.2% of the total votes. The dominant victory of the BJP and its allies — by repeating the 2014 win, and then some — suggests that the era of coalitions (and/or a central government with a relatively weak national party in power) determining the balance of power at Delhi has decisively come to an end"
   ]
  },
  {
   "cell_type": "markdown",
   "metadata": {
    "id": "IwQ5nIeNqlEn"
   },
   "source": [
    "### Age Distribution Of Candidates"
   ]
  },
  {
   "cell_type": "code",
   "execution_count": null,
   "metadata": {
    "colab": {
     "base_uri": "https://localhost:8080/",
     "height": 542
    },
    "id": "ms0Lm63Aqc4s",
    "outputId": "03212046-d11d-4e37-c178-46647bad174e"
   },
   "outputs": [],
   "source": [
    "# Visualize the age distribution of candidates\n",
    "age_distribution_fig = px.histogram(df,\n",
    "                                    x=\"AGE\",\n",
    "                                    color_discrete_sequence=['indianred'])\n",
    "age_distribution_fig.update_layout(title_text='Age Distribution of Candidates',\n",
    "                                   xaxis_title=\"Distribution\",\n",
    "                                   yaxis_title=\"Age\")\n",
    "age_distribution_fig.update_layout(font_family=\"Courier New\",\n",
    "                                   font_color=\"#351f39\",\n",
    "                                   title_font_family=\"Courier New\",\n",
    "                                   title_font_color=\"#351f39\")\n",
    "age_distribution_fig.show()"
   ]
  },
  {
   "cell_type": "markdown",
   "metadata": {
    "id": "8kIw7xNyq1ya"
   },
   "source": [
    "# Caste Distribution Of Candidates"
   ]
  },
  {
   "cell_type": "code",
   "execution_count": null,
   "metadata": {
    "colab": {
     "base_uri": "https://localhost:8080/",
     "height": 542
    },
    "id": "LJBJqRdVq1Oo",
    "outputId": "c06f9199-6c04-4df9-bcdc-70d0abe86594"
   },
   "outputs": [],
   "source": [
    "# Create a dataframe containing the caste distribution of winners\n",
    "winner_caste = df[df['WINNER'] == 1].groupby('CATEGORY')['WINNER'].size()\n",
    "winner_caste_df = pd.DataFrame(data=winner_caste)\n",
    "winner_caste_df.reset_index(level=0, inplace=True)\n",
    "winner_caste_df['Category'] = 'Winner'\n",
    "\n",
    "# Create a dataframe containing the caste distribution of total number of candidates\n",
    "total_caste = df.groupby('CATEGORY').size()\n",
    "total_caste_df = pd.DataFrame(data=total_caste)\n",
    "total_caste_df.reset_index(level=0, inplace=True)\n",
    "total_caste_df['Category'] = 'Total'\n",
    "total_caste_df.rename(columns={0: \"WINNER\"}, inplace=True)\n",
    "\n",
    "# Concatenate the two dataframes\n",
    "winner_caste_df = pd.concat((winner_caste_df, total_caste_df))\n",
    "\n",
    "# Visualize the results\n",
    "caste_fig = px.bar(winner_caste_df,\n",
    "                   x='CATEGORY',\n",
    "                   y='WINNER',\n",
    "                   color='Category',\n",
    "                   barmode='group')\n",
    "caste_fig.update_layout(font_family=\"Courier New\",\n",
    "                        font_color=\"#351f39\",\n",
    "                        title_text='Caste distribution of candidates',\n",
    "                        title_font_family=\"Courier New\",\n",
    "                        title_font_color=\"#351f39\",\n",
    "                        xaxis_title='Caste',\n",
    "                        yaxis_title='Count')\n",
    "caste_fig.show()\n"
   ]
  },
  {
   "cell_type": "markdown",
   "metadata": {
    "id": "_FGKP4G_rIGb"
   },
   "source": [
    "# Top ten party-wise criminal records"
   ]
  },
  {
   "cell_type": "code",
   "execution_count": null,
   "metadata": {
    "id": "xPVkpUOxrSKP"
   },
   "outputs": [],
   "source": [
    "# Fill NaNs with 0 or another value\n",
    "df['CRIMINAL\\nCASES'] = pd.to_numeric(df['CRIMINAL\\nCASES'], errors='coerce')\n",
    "df.dropna(subset=['CRIMINAL\\nCASES'], inplace=True)"
   ]
  },
  {
   "cell_type": "code",
   "execution_count": null,
   "metadata": {
    "colab": {
     "base_uri": "https://localhost:8080/",
     "height": 542
    },
    "id": "4elsK7YCr9SK",
    "outputId": "f0c7eb99-4035-4310-e537-8b6b08b4d6ac"
   },
   "outputs": [],
   "source": [
    "import pandas as pd\n",
    "import plotly.express as px\n",
    "\n",
    "# Ensure that your DataFrame is loaded\n",
    "# df = pd.read_csv('/path/to/your/LS_2.0.csv')  # Uncomment if you need to load the data\n",
    "\n",
    "# Convert 'CRIMINAL\\nCASES' column to numeric\n",
    "df['CRIMINAL\\nCASES'] = pd.to_numeric(df['CRIMINAL\\nCASES'], errors='coerce')\n",
    "\n",
    "# Drop rows with NaN values in 'CRIMINAL\\nCASES' column\n",
    "df.dropna(subset=['CRIMINAL\\nCASES'], inplace=True)\n",
    "\n",
    "# Create a dataframe of criminal records\n",
    "criminal_df = pd.DataFrame(data=df[df['WINNER'] == 1].groupby('PARTY')['CRIMINAL\\nCASES'].sum())\n",
    "criminal_df.sort_values(by='CRIMINAL\\nCASES', ascending=False, inplace=True)\n",
    "criminal_df.reset_index(level=0, inplace=True)\n",
    "\n",
    "# Visualize the criminal records for the top 10 parties\n",
    "criminal_fig = px.scatter(criminal_df[:10],\n",
    "                          x='PARTY',\n",
    "                          y='CRIMINAL\\nCASES',\n",
    "                          size='CRIMINAL\\nCASES',\n",
    "                          color='PARTY',\n",
    "                          hover_data=['CRIMINAL\\nCASES'])\n",
    "\n",
    "# Update layout with enhanced visual aesthetics\n",
    "criminal_fig.update_layout(title_text='Top 10 Party-wise Criminal Records',\n",
    "                           font_family=\"Courier New\",\n",
    "                           font_color=\"#351f39\",\n",
    "                           title_font_family=\"Courier New\",\n",
    "                           title_font_color=\"#351f39\",\n",
    "                           xaxis_title=\"Party\",\n",
    "                           yaxis_title=\"Criminal Records\")\n",
    "\n",
    "# Display the figure\n",
    "criminal_fig.show()\n"
   ]
  },
  {
   "cell_type": "markdown",
   "metadata": {
    "id": "PgjX5Gfrt7AV"
   },
   "source": [
    "# Key battlegrounds of the election"
   ]
  },
  {
   "cell_type": "markdown",
   "metadata": {
    "id": "egX7TLb9t99D"
   },
   "source": [
    "Amethi (Uttar Pradesh): Known to be a traditional Congress bastion, BJP had fielded Union Minister Smriti Irani against Congress president Rahul Gandhi. The voting day in Amethi in the fifth phase was marked by charges of 'booth-rigging' by Irani and Congress president Rahul Gandhi being absent from the constituency. In 2014, Irani lost to Rahul Gandhi from the same seat with a vote-margin of 1.07 lakh votes or a vote-ratio of about 3:4. This time, her challenge has forced Rahul Gandhi to also seek election from Wayanad.\n",
    "\n",
    "Varanasi (Uttar Pradesh): Given the significance of the seat, mid-polls rumours had emerged that the Congress' General Secretary for Uttar Pradesh East Priyanka Gandhi Vadra could contest the seat. However, the speculations were put to rest as Congress fielded Ajay Rai, hours before PM Modi addressed a massive road-show ahead of his nomination-filing. In the 2014 Parliamentary elections, PM Modi swept the seat by receiving 56.40% of votes and defeated Arvind Kejriwal by a by 3.37 lakh vote margin."
   ]
  },
  {
   "cell_type": "code",
   "execution_count": null,
   "metadata": {
    "colab": {
     "base_uri": "https://localhost:8080/",
     "height": 659
    },
    "id": "MV1K5ltmuPCo",
    "outputId": "a4451c3a-c8ad-4196-e6ff-e4851b2a4478"
   },
   "outputs": [],
   "source": [
    "# Battleground Amethi\n",
    "amethi_df = df[df['CONSTITUENCY'] == 'AMETHI'][['NAME','TOTAL\\nVOTES']]\n",
    "\n",
    "# Battleground Varanasi\n",
    "varanasi_df = df[df['CONSTITUENCY'] == 'VARANASI'][['NAME','TOTAL\\nVOTES']]\n",
    "\n",
    "fig, axes = plt.subplots(nrows=1, ncols=2, figsize=(15,7))\n",
    "amethi_df.plot(kind='bar', ax=axes[0], alpha=0.75, rot=0, legend=False, title='Battleground Amethi: Smriti Irani vs Rahul Gandhi', x='NAME')\n",
    "varanasi_df.plot(kind='bar', ax=axes[1], alpha=0.75, rot=0, legend=False, title=\"Battleground Varanasi: Narendra Modi's Constituency\", x='NAME')"
   ]
  },
  {
   "cell_type": "markdown",
   "metadata": {
    "id": "8ivJ1z5Cutpn"
   },
   "source": [
    "1)This time things were different in Amethi. Smriti Irani defeated Rahul Gandhi by a substantial margin.\n",
    "\n",
    "2)In Varanasi however the picture was similar with Narendra Modi winning the seat by a landslide."
   ]
  },
  {
   "cell_type": "markdown",
   "metadata": {
    "id": "Qfm2Y4M_vQnw"
   },
   "source": [
    "# West Bengal:\n",
    "\n",
    "West Bengal remained the newsmaker of the 2019 Lok Sabha polls, with violence including crude bombs, lathi charges and repeated political clashes and claims of attacks from candidates became the talking point in the state as polling was held in all seven phases spread across two months in the politically important state. Bengal has 42 Lok Sabha constituencies, of which the Trinamool won 34 in 2014. The Congress managed four and the Left two. The BJP secured only two, despite the Narendra Modi wave in the country that year. The state which was considered to be a bastion for the Left Wing has now become a stronghold for the Trinamool Congress."
   ]
  },
  {
   "cell_type": "markdown",
   "metadata": {
    "id": "ioxkUOfXu4RC"
   },
   "source": []
  },
  {
   "cell_type": "code",
   "execution_count": null,
   "metadata": {
    "colab": {
     "base_uri": "https://localhost:8080/",
     "height": 542
    },
    "id": "5XNd2VmsvaGL",
    "outputId": "86346cd2-70b5-48b4-ea70-33f6183890b5"
   },
   "outputs": [],
   "source": [
    "# Battleground West Bengal\n",
    "bengal_df = pd.DataFrame(data=df[df['STATE'] == 'West Bengal'])\n",
    "bengal_df_vote = pd.DataFrame(data=bengal_df.groupby('PARTY')['TOTAL\\nVOTES'].sum())\n",
    "bengal_df_vote.sort_values(by='TOTAL\\nVOTES', ascending=False, inplace=True)\n",
    "bengal_df_vote.reset_index(level=0, inplace=True)\n",
    "bengal_df_vote['Category'] = bengal_df_vote.apply(sort_party, axis=1)\n",
    "bengal_vote_count = bengal_df_vote.groupby('Category')['TOTAL\\nVOTES'].sum()\n",
    "\n",
    "vote_share_top5 = bengal_df_vote.groupby('PARTY')['TOTAL\\nVOTES'].sum().nlargest(5).index.tolist()\n",
    "# Visualize Party-wise vote share\n",
    "bengal_fig = go.Figure(go.Pie(labels=bengal_vote_count.index,\n",
    "                                  values=bengal_vote_count.values,\n",
    "                                  pull=[0.1, 0.1, 0.1, 0.1, 0.1, 0.1],\n",
    "                                  marker=dict(line=dict(color=\"#000000\",\n",
    "                                                        width=2))))\n",
    "bengal_fig.update_layout(title_text='West Bengal : Party-wise Vote Share',\n",
    "                             font_family=\"Courier New\",\n",
    "                             font_color=\"#351f39\",\n",
    "                             title_font_family=\"Courier New\",\n",
    "                             title_font_color=\"#351f39\")\n",
    "bengal_fig.show()"
   ]
  },
  {
   "cell_type": "markdown",
   "metadata": {
    "id": "Yxu0XX7Xvxv6"
   },
   "source": [
    "The Trinamool Congress recorded its best-ever performance in 2014 Lok Sabha election in West Bengal as it swept 34 of the 42 seats decimating the Left in its victory march, while the BJP made impressive inroads winning two seats. The BJP left no stone unturned in attempting to make inroads into Mamata Banerjee's bastion while the Trinamool responded by not ceding an inch. This time around BJP swept the 2019 Lok Sabha polls winning 18 seats out of 42 with a vote share of 41.6%. However it failed to dent the consolidated vote share of Mamata Banerjee's TMC"
   ]
  },
  {
   "cell_type": "markdown",
   "metadata": {
    "id": "APf1UTb2v3k5"
   },
   "source": [
    "# How people voted in Bengal?"
   ]
  },
  {
   "cell_type": "code",
   "execution_count": null,
   "metadata": {
    "colab": {
     "base_uri": "https://localhost:8080/",
     "height": 659
    },
    "id": "MOyBC8JJv9Zz",
    "outputId": "ba214e1f-7de2-4b42-d380-1e1bf1fecfb1"
   },
   "outputs": [],
   "source": [
    "# Create a dataframe containing the caste distribution of winners\n",
    "winner_caste_bengal = bengal_df[bengal_df['WINNER'] == 1].groupby('CATEGORY')['WINNER'].size()\n",
    "winner_caste_bengal_df= pd.DataFrame(data=winner_caste_bengal)\n",
    "winner_caste_bengal_df.reset_index(level=0, inplace=True)\n",
    "\n",
    "def education(data):\n",
    "    if data['EDUCATION'] in ['5th Pass', 'Others', 'Illiterate', 'Not Available']:\n",
    "        return 'Uneducated'\n",
    "    elif data['EDUCATION'] in ['Graduate', 'Doctorate', 'Post Graduate']:\n",
    "        return 'Highly Educated'\n",
    "    else:\n",
    "        return 'Educated'\n",
    "\n",
    "bengal_df['Education Level'] = bengal_df.apply(education, axis=1)\n",
    "\n",
    "winner_edu_bengal = bengal_df[bengal_df['WINNER'] == 1].groupby('Education Level')['WINNER'].size()\n",
    "winner_edu_bengal_df= pd.DataFrame(data=winner_edu_bengal)\n",
    "winner_edu_bengal_df.reset_index(level=0, inplace=True)\n",
    "\n",
    "fig, axes = plt.subplots(nrows=1, ncols=2, figsize=(15,7))\n",
    "winner_caste_bengal_df.plot(kind='bar', ax=axes[0], alpha=0.75, rot=0, legend=False, title='West Bengal: Caste of winning candidates', x='CATEGORY')\n",
    "winner_edu_bengal_df.plot(kind='bar', ax=axes[1], alpha=0.75, rot=0, legend=False, title='West Bengal: Education of winning candidates', x='Education Level')"
   ]
  },
  {
   "cell_type": "markdown",
   "metadata": {
    "id": "8JOtRlUZwLRk"
   },
   "source": [
    "1)Most of the winning candidates are from General caste.\n",
    "\n",
    "2)When it comes to education most of the winning candidates are highly educated. The level of education of an candidate is a key factor in West Bengal"
   ]
  },
  {
   "cell_type": "markdown",
   "metadata": {
    "id": "7Mn0d7L3wXwJ"
   },
   "source": [
    "Begusarai (Bihar): The Begusarai constituency, which is among the most talked about seats in Bihar, recorded a comparatively high turnout of 61.27%, as per the EC. The constituency has been under a microscope as it is witnessing the electoral debut of CPI candidate Kanhaiya Kumar, the controversial former JNUSU president who is pitted against BJP leader and union minister Giriraj Singh. The Mahagathbandhan's nominee is Tanweer Hasan (RJD)"
   ]
  },
  {
   "cell_type": "markdown",
   "metadata": {
    "id": "kyzk303AwUjl"
   },
   "source": []
  },
  {
   "cell_type": "markdown",
   "metadata": {
    "id": "9BcRje4XwvME"
   },
   "source": [
    "Bangalore South (Karnataka): The saffron bastion will see BJP's Tejasvi Surya take on Congress’ BK Hariprasad. After the untimely death of BJP leader and union minister Ananth Kumar who had held the constituency since 1996, BJP has fielded a young face in Tejasvi Surya. The late Ananth Kumar had beaten Infosys co-founder Nandan Nilekani, then a Congress candidate, in 2014."
   ]
  },
  {
   "cell_type": "markdown",
   "metadata": {
    "id": "UbCMUoQPw0BQ"
   },
   "source": [
    "Wayanad (Kerala): Congress chief Rahul Gandhi contesting from this constituency apart from Congress' bastion in Amethi has made the relatively new seat becoming a national talking point. Against him are PP Suneer of CPI(M) and Thushar Vellappally of Bharath Dharma Jana Sena (an ally of BJP). Interestingly, Congress chief will be fighting with three namesakes: two Independent candidates, K.E. Rahul Gandhi and K.M. Shivprasad Gandhi, and K. Raghul Gandhi of the Agila India Makkal Kazhagam party."
   ]
  },
  {
   "cell_type": "markdown",
   "metadata": {
    "id": "AXicphmKw40g"
   },
   "source": [
    "Bhopal (Madhya Pradesh): A BJP bastion, this constituency has taken centrestage ever since the BJP fielded Malegaon blast-accused Sadhvi Pragya from the seat against Congress veteran Digvijaya Singh. Singh has been CM of Madhya Pradesh and is contesting an election after a gap of almost 19 years, the last being the assembly election he contested in 2003. He was nominated to the Rajya Sabha in 2014 from Madhya Pradesh. The BJP however has consistently been winning the seat of Bhopal since 1989. BJP's Alok Sanjar is the sitting MP from the Bhopal Lok Sabha seat. What makes the contest especially interesting, however, is the fact that Digvijaya Singh was one of the most significant proposers of 'Saffron terror/Hindu terror' which cited the Malegaon blasts among others"
   ]
  },
  {
   "cell_type": "code",
   "execution_count": null,
   "metadata": {
    "colab": {
     "base_uri": "https://localhost:8080/",
     "height": 1000
    },
    "id": "pMlr170Kw9OV",
    "outputId": "368ea209-ed69-4388-d0fd-4416344822c0"
   },
   "outputs": [],
   "source": [
    "begusarai_df = df[df['CONSTITUENCY'] == 'BEGUSARAI'][['NAME','TOTAL\\nVOTES']]\n",
    "bangalore_df = df[df['CONSTITUENCY'] == 'BANGALORE SOUTH'][['NAME','TOTAL\\nVOTES']]\n",
    "wayanad_df = df[df['CONSTITUENCY'] == 'WAYANAD'][['NAME','TOTAL\\nVOTES']]\n",
    "bhopal_df = df[df['CONSTITUENCY'] == 'BHOPAL'][['NAME','TOTAL\\nVOTES']]\n",
    "\n",
    "fig, axes = plt.subplots(nrows=2, ncols=2, figsize=(15,15))\n",
    "begusarai_df.plot(kind='bar', ax=axes[0,0], alpha=0.75, rot=0, legend=False, title='Battleground Begusarai', x='NAME')\n",
    "bangalore_df.plot(kind='bar', ax=axes[0,1], alpha=0.75, rot=0, legend=False, title=\"Battleground Bangalore South\", x='NAME')\n",
    "wayanad_df.plot(kind='bar', ax=axes[1,0], alpha=0.75, rot=0, legend=False, title='Battleground Wayanad', x='NAME')\n",
    "bhopal_df.plot(kind='bar', ax=axes[1,1], alpha=0.75, rot=0, legend=False, title=\"Battleground Bhopal\", x='NAME')"
   ]
  },
  {
   "cell_type": "markdown",
   "metadata": {
    "id": "3JXPa-brxUq9"
   },
   "source": [
    "# Preparing the data"
   ]
  },
  {
   "cell_type": "markdown",
   "metadata": {
    "id": "7DtvcRp8xZL_"
   },
   "source": [
    "# Scaling the data"
   ]
  },
  {
   "cell_type": "code",
   "execution_count": null,
   "metadata": {
    "colab": {
     "base_uri": "https://localhost:8080/",
     "height": 452
    },
    "id": "nBa_13vXxeSZ",
    "outputId": "46878c2a-4386-4034-8870-2d47a531d8bb"
   },
   "outputs": [],
   "source": [
    "# This is the dataset which will be used for fitting Machine Learning models\n",
    "df.head()"
   ]
  },
  {
   "cell_type": "code",
   "execution_count": null,
   "metadata": {
    "colab": {
     "base_uri": "https://localhost:8080/",
     "height": 836
    },
    "id": "fGsj81zsxl39",
    "outputId": "d00bed52-d13b-4b52-943e-4698d42e41c1"
   },
   "outputs": [],
   "source": [
    "# Labeling parties with less than 10 candidates as others\n",
    "less_candidates = []\n",
    "for i, j in df['PARTY'].value_counts().items():\n",
    "    if j <= 10:\n",
    "        less_candidates.append(i)\n",
    "len(less_candidates)\n",
    "\n",
    "def small_party(data):\n",
    "    if data in less_candidates:\n",
    "        return 'Other'\n",
    "    return data\n",
    "df['PARTY'] = df['PARTY'].apply(small_party)\n",
    "df['PARTY'].value_counts()"
   ]
  },
  {
   "cell_type": "code",
   "execution_count": null,
   "metadata": {
    "colab": {
     "base_uri": "https://localhost:8080/",
     "height": 293
    },
    "id": "WfGcTgpLxvwe",
    "outputId": "21691703-5e29-4c45-9b0e-cd153f049796"
   },
   "outputs": [],
   "source": [
    "X = df.drop(['NAME', 'SYMBOL', 'WINNER', 'GENERAL\\nVOTES', 'POSTAL\\nVOTES', 'TOTAL\\nVOTES', 'OVER TOTAL VOTES POLLED \\nIN CONSTITUENCY',\n",
    "             'OVER TOTAL VOTES POLLED \\nIN CONSTITUENCY', 'Party New', 'CONSTITUENCY'], axis=1)\n",
    "y = df['WINNER']\n",
    "X.head()"
   ]
  },
  {
   "cell_type": "code",
   "execution_count": null,
   "metadata": {
    "id": "1-A8CVzgyZt-"
   },
   "outputs": [],
   "source": [
    "# Creating training and test dataset\n",
    "X_train, X_test, y_train, y_test = train_test_split(X, y, test_size=0.30, random_state=42)"
   ]
  },
  {
   "cell_type": "code",
   "execution_count": null,
   "metadata": {
    "id": "1QCHBFsVyb5R"
   },
   "outputs": [],
   "source": [
    "categorical = []\n",
    "numerical = []\n",
    "\n",
    "# Converting Strings to Category\n",
    "for label, content in X.items():\n",
    "    if pd.api.types.is_string_dtype(content):\n",
    "        X[label] = content.astype(\"category\")\n",
    "        categorical.append(label)\n",
    "\n",
    "    if pd.api.types.is_numeric_dtype(content):\n",
    "        numerical.append(label)"
   ]
  },
  {
   "cell_type": "code",
   "execution_count": null,
   "metadata": {
    "id": "xsYg_-sVyhRa"
   },
   "outputs": [],
   "source": [
    "# Initializing the StandardScaler()\n",
    "scaler = MinMaxScaler()\n",
    "encoder = OrdinalEncoder()\n",
    "\n",
    "# Encoding the categorical columns\n",
    "for cat in categorical:\n",
    "    label_fit = encoder.fit(np.array(X[cat]).reshape(-1, 1))\n",
    "    X_train[cat] = label_fit.transform(np.array(X_train[cat]).reshape(-1, 1))\n",
    "    X_test[cat] = label_fit.transform(np.array(X_test[cat]).reshape(-1, 1))\n",
    "\n",
    "# Scaling the dataset\n",
    "scaler_fit = scaler.fit(X[numerical])\n",
    "X_train[numerical] = scaler_fit.transform(X_train[numerical])\n",
    "X_test[numerical] = scaler_fit.transform(X_test[numerical])\n",
    "# Encoding the target\n",
    "target_enc = LabelEncoder().fit(y_train)\n",
    "y_train = target_enc.transform(y_train)\n",
    "y_test = target_enc.transform(y_test)"
   ]
  },
  {
   "cell_type": "markdown",
   "metadata": {
    "id": "wcq_E0wHyr14"
   },
   "source": [
    "# Upsampling the dataset"
   ]
  },
  {
   "cell_type": "code",
   "execution_count": null,
   "metadata": {
    "colab": {
     "base_uri": "https://localhost:8080/"
    },
    "id": "QkYGHjmtyxOR",
    "outputId": "3254cd49-1cf9-4c5a-dfe4-ceb281a238b2"
   },
   "outputs": [],
   "source": [
    "Counter(y_train)"
   ]
  },
  {
   "cell_type": "code",
   "execution_count": null,
   "metadata": {
    "colab": {
     "base_uri": "https://localhost:8080/"
    },
    "id": "jtVo_QrOypMs",
    "outputId": "a3eb269b-4ce1-40c3-f9a5-7a520d15ea71"
   },
   "outputs": [],
   "source": [
    "oversample = SMOTE()\n",
    "X_train, y_train = oversample.fit_resample(X_train, y_train)\n",
    "counter = Counter(y_train)\n",
    "print(counter)"
   ]
  },
  {
   "cell_type": "markdown",
   "metadata": {
    "id": "vROOTgffzCZ9"
   },
   "source": [
    "# Machine learning model experimentation"
   ]
  },
  {
   "cell_type": "code",
   "execution_count": null,
   "metadata": {
    "id": "LV7N320OB-U7"
   },
   "outputs": [],
   "source": [
    "np.random.seed(42)\n",
    "\n",
    "# Create a dictionary of the models to experiment\n",
    "models = {\n",
    "          \"Random Forest\" : RandomForestClassifier(n_jobs=-1),\n",
    "          \"Support Vector Machines\" : SVC(),\n",
    "          \"K-Nearest Neighbors\" : KNeighborsClassifier(),\n",
    "          \"Logistic Regression\"  : LogisticRegression(),\n",
    "          \"XG Boosting\" : xgb.XGBClassifier(n_jobs=-1),\n",
    "          \"Cat Boosting\": CatBoostClassifier(),\n",
    "          \"Gradient Boosting\"  : GradientBoostingClassifier(),\n",
    "          \"ADA Boosting\" : AdaBoostClassifier(),\n",
    "          \"LG Boosting\" : lgb.LGBMClassifier(),\n",
    "          \"Decision Trees\" : DecisionTreeClassifier()\n",
    "         }\n",
    "\n",
    "# Create a function to fit and score the models\n",
    "def fit_and_score(models, X_train, y_train, X_test, y_test):\n",
    "    '''\n",
    "    Fits and evaluates the machine learning models.\n",
    "    models : a dict of different Scikit-Learn machine learning models.\n",
    "    X_train : training data (no labels)\n",
    "    y_train : training lables\n",
    "    X_test : testing data (no labels)\n",
    "    y_test : testing lables\n",
    "    '''\n",
    "    train_model_scores_acc = {}\n",
    "    train_model_scores_pre = {}\n",
    "    train_model_scores_rec = {}\n",
    "    train_model_scores_f1 = {}\n",
    "\n",
    "    test_model_scores_acc = {}\n",
    "    test_model_scores_pre = {}\n",
    "    test_model_scores_rec = {}\n",
    "    test_model_scores_f1 = {}\n",
    "\n",
    "    train_model_timing = {}\n",
    "\n",
    "    for name, model in models.items():\n",
    "        start = time.time()\n",
    "        train_model_scores_acc[name] = np.mean(cross_val_score(model, X_train, y_train, cv=10, n_jobs=-1, scoring='accuracy')) * 100\n",
    "        train_model_scores_pre[name] = np.mean(cross_val_score(model, X_train, y_train, cv=10, n_jobs=-1, scoring='precision')) * 100\n",
    "        train_model_scores_rec[name] = np.mean(cross_val_score(model, X_train, y_train, cv=10, n_jobs=-1, scoring='recall')) * 100\n",
    "        train_model_scores_f1[name] = np.mean(cross_val_score(model, X_train, y_train, cv=10, n_jobs=-1, scoring='f1')) * 100\n",
    "        stop = time.time()\n",
    "        timing = stop - start\n",
    "        train_model_timing[name] = timing\n",
    "\n",
    "        model.fit(X_train, y_train)\n",
    "        pred = model.predict(X_test)\n",
    "\n",
    "        test_model_scores_acc[name] = accuracy_score(y_test, pred) * 100\n",
    "        test_model_scores_pre[name] = precision_score(y_test, pred) * 100\n",
    "        test_model_scores_rec[name] = recall_score(y_test, pred) * 100\n",
    "        test_model_scores_f1[name] = f1_score(y_test, pred) * 100\n",
    "\n",
    "    # Create dictionary for oil scores\n",
    "    scores = {'Training Accuracy': train_model_scores_acc,\n",
    "              'Training Precision': train_model_scores_pre,\n",
    "              'Training Recall': train_model_scores_rec,\n",
    "              'Training F1': train_model_scores_f1,\n",
    "              'Test Accuracy':  test_model_scores_acc,\n",
    "              'Test Precision': test_model_scores_pre,\n",
    "              'Test Recall': test_model_scores_rec,\n",
    "              'Test F1': test_model_scores_f1,\n",
    "              '10-Fold CV Timing (seconds)': train_model_timing\n",
    "             }\n",
    "\n",
    "    # Create dataframe of scores\n",
    "    scores_df = pd.DataFrame(scores)\n",
    "\n",
    "    scores_df.rename_axis('Model', inplace=True)\n",
    "    scores_df.reset_index(inplace=True)\n",
    "    scores_df.sort_values('Test Accuracy', ascending=False, inplace=True)\n",
    "    return scores_df\n"
   ]
  },
  {
   "cell_type": "code",
   "execution_count": null,
   "metadata": {
    "colab": {
     "base_uri": "https://localhost:8080/"
    },
    "id": "QswOwPzA3A4X",
    "outputId": "2516a10c-e829-417e-c0a4-ccfd551cf5e3"
   },
   "outputs": [],
   "source": [
    "!pip install catboost\n"
   ]
  },
  {
   "cell_type": "code",
   "execution_count": null,
   "metadata": {
    "colab": {
     "base_uri": "https://localhost:8080/",
     "height": 1000
    },
    "id": "oNp4kjyNz6Rh",
    "outputId": "d2929262-ef7c-4777-a5ed-aeaacc49036c"
   },
   "outputs": [],
   "source": [
    "scores_df=fit_and_score(models, X_train, y_train, X_test, y_test)"
   ]
  },
  {
   "cell_type": "code",
   "execution_count": null,
   "metadata": {
    "colab": {
     "base_uri": "https://localhost:8080/",
     "height": 148
    },
    "id": "QdAXZvjL3rfe",
    "outputId": "69d4252e-23d7-45a7-9449-feea12aeed3b"
   },
   "outputs": [],
   "source": [
    "scores_df\n"
   ]
  },
  {
   "cell_type": "markdown",
   "metadata": {
    "id": "uOBfxXqH4C3a"
   },
   "source": [
    "# Evaluation"
   ]
  },
  {
   "cell_type": "code",
   "execution_count": null,
   "metadata": {
    "id": "hpn8jmJs10QU"
   },
   "outputs": [],
   "source": [
    "# Fitting the final model\n",
    "final_model = xgb.XGBClassifier(n_jobs=-1)\n",
    "final_model.fit(X_train, y_train)\n",
    "\n",
    "# Making predictions\n",
    "pred = final_model.predict(X_test)"
   ]
  },
  {
   "cell_type": "code",
   "execution_count": null,
   "metadata": {
    "colab": {
     "base_uri": "https://localhost:8080/",
     "height": 490
    },
    "id": "WDFB5LGT4Kss",
    "outputId": "af8228c7-7c0f-4687-9092-f35fcd7adbce"
   },
   "outputs": [],
   "source": [
    "xgb.plot_importance(final_model)"
   ]
  },
  {
   "cell_type": "markdown",
   "metadata": {
    "id": "JlJQ2gJL4UbM"
   },
   "source": [
    "# Classification report"
   ]
  },
  {
   "cell_type": "code",
   "execution_count": null,
   "metadata": {
    "colab": {
     "base_uri": "https://localhost:8080/",
     "height": 148
    },
    "id": "fpAQVKWd4W47",
    "outputId": "4184be31-0320-4ffd-f8fe-0ae908bc37ed"
   },
   "outputs": [],
   "source": [
    "print(classification_report(y_test, pred))"
   ]
  },
  {
   "cell_type": "markdown",
   "metadata": {
    "id": "aGrzq_p44gnN"
   },
   "source": [
    "# Confusion matrix"
   ]
  },
  {
   "cell_type": "code",
   "execution_count": null,
   "metadata": {
    "colab": {
     "base_uri": "https://localhost:8080/",
     "height": 148
    },
    "id": "W573gmUn4gPt",
    "outputId": "e9f4e547-17c1-432a-8691-f75096f53f33"
   },
   "outputs": [],
   "source": [
    "sns.heatmap(confusion_matrix(y_test, pred), cmap= \"Blues\", annot=True, fmt='')"
   ]
  },
  {
   "cell_type": "markdown",
   "metadata": {
    "id": "vz2TdLh24rjj"
   },
   "source": [
    "# ROC curve"
   ]
  },
  {
   "cell_type": "code",
   "execution_count": null,
   "metadata": {
    "colab": {
     "base_uri": "https://localhost:8080/"
    },
    "id": "G3rFPDzW5QTW",
    "outputId": "28df53d2-3133-40b2-906a-f8425c2f574e"
   },
   "outputs": [],
   "source": [
    "!pip install --upgrade scikit-learn\n"
   ]
  },
  {
   "cell_type": "code",
   "execution_count": null,
   "metadata": {
    "id": "vViQfFP055Dg"
   },
   "outputs": [],
   "source": [
    "from sklearn.metrics import roc_curve, auc\n",
    "import matplotlib.pyplot as plt\n",
    "\n"
   ]
  },
  {
   "cell_type": "code",
   "execution_count": null,
   "metadata": {
    "colab": {
     "base_uri": "https://localhost:8080/",
     "height": 472
    },
    "id": "9am44WTR7R1f",
    "outputId": "c65e2399-8a1b-4fc1-a112-d483293af8cf"
   },
   "outputs": [],
   "source": [
    "# Get the predicted probabilities for the positive class\n",
    "y_prob = final_model.predict_proba(X_test)[:, 1]\n",
    "\n",
    "# Compute ROC curve\n",
    "fpr, tpr, _ = roc_curve(y_test, y_prob)\n",
    "roc_auc = auc(fpr, tpr)\n",
    "\n",
    "# Plot ROC curve\n",
    "plt.figure()\n",
    "plt.plot(fpr, tpr, color='darkorange', lw=2, label='ROC curve (area = %0.2f)' % roc_auc)\n",
    "plt.plot([0, 1], [0, 1], color='navy', lw=2, linestyle='--')\n",
    "plt.xlim([0.0, 1.0])\n",
    "plt.ylim([0.0, 1.05])\n",
    "plt.xlabel('False Positive Rate')\n",
    "plt.ylabel('True Positive Rate')\n",
    "plt.title('Receiver Operating Characteristic')\n",
    "plt.legend(loc='lower right')\n",
    "plt.show()\n"
   ]
  },
  {
   "cell_type": "code",
   "execution_count": null,
   "metadata": {
    "id": "5Dq6V5CvE4mq"
   },
   "outputs": [],
   "source": []
  },
  {
   "cell_type": "code",
   "execution_count": null,
   "metadata": {
    "id": "S8rXVXoMuXgD"
   },
   "outputs": [],
   "source": []
  }
 ],
 "metadata": {
  "colab": {
   "provenance": []
  },
  "kernelspec": {
   "display_name": "Python 3 (ipykernel)",
   "language": "python",
   "name": "python3"
  },
  "language_info": {
   "codemirror_mode": {
    "name": "ipython",
    "version": 3
   },
   "file_extension": ".py",
   "mimetype": "text/x-python",
   "name": "python",
   "nbconvert_exporter": "python",
   "pygments_lexer": "ipython3",
   "version": "3.12.4"
  }
 },
 "nbformat": 4,
 "nbformat_minor": 4
}
